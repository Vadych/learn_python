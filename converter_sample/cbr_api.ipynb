{
 "cells": [
  {
   "cell_type": "code",
   "execution_count": null,
   "metadata": {},
   "outputs": [],
   "source": [
    "import requests\n",
    "from bs4 import BeautifulSoup \n",
    "\n",
    "resp = requests.get(\"http://www.cbr.ru/scripts/XML_daily.asp\")\n",
    "soup = BeautifulSoup(resp.content, \"xml\")\n",
    "soup"
   ]
  },
  {
   "cell_type": "code",
   "execution_count": null,
   "metadata": {
    "collapsed": true
   },
   "outputs": [],
   "source": [
    "soup.find('CharCode', text='EUR').find_next_sibling('Value').string"
   ]
  },
  {
   "cell_type": "code",
   "execution_count": null,
   "metadata": {
    "collapsed": true
   },
   "outputs": [],
   "source": [
    "soup.find(ID=\"R01239\").Value.string"
   ]
  },
  {
   "cell_type": "code",
   "execution_count": null,
   "metadata": {
    "collapsed": true
   },
   "outputs": [],
   "source": [
    "resp = requests.get(\n",
    "    \"http://api.openweathermap.org/data/2.5/weather\",\n",
    "    params={\n",
    "        \"q\": \"Moscow\",\n",
    "        \"APPID\": \"7543b0d800ce423bab3b2f6ad38df30b\",\n",
    "        'mode': 'xml', 'units': 'metric'\n",
    "    }\n",
    ")\n",
    "soup = BeautifulSoup(resp.content, \"xml\")\n",
    "soup.temperature['value']"
   ]
  },
  {
   "cell_type": "code",
   "execution_count": null,
   "metadata": {
    "collapsed": true
   },
   "outputs": [],
   "source": [
    "import requests\n",
    "resp = requests.get(\n",
    "    \"http://api.openweathermap.org/data/2.5/weather\",\n",
    "    params={\n",
    "        \"q\": \"Moscow\",\n",
    "        \"APPID\": \"7543b0d800ce423bab3b2f6ad38df30b\",\n",
    "        'mode': 'json', 'units': 'metric'\n",
    "    }\n",
    ")\n",
    "data = resp.json()\n",
    "data['main']['temp']"
   ]
  },
  {
   "cell_type": "code",
   "execution_count": null,
   "metadata": {
    "collapsed": true
   },
   "outputs": [],
   "source": [
    "resp.text"
   ]
  },
  {
   "cell_type": "code",
   "execution_count": null,
   "metadata": {},
   "outputs": [],
   "source": [
    "import requests\n",
    "resp = requests.get(\n",
    "    'https://api.vk.com/method/users.get',\n",
    "    params={ 'user_id': '210700286',\n",
    "             #'v': '5.68',\n",
    "             #'fields': 'photo_id, verified, sex, bdate, city, country, home_town, has_photo, photo_50, photo_100, photo_200_orig, photo_200, photo_400_orig, photo_max, photo_max_orig, online, domain, has_mobile, contacts, site, education, universities, schools, status, last_seen, followers_count, occupation, nickname, relatives, relation, personal, connections, exports, wall_comments, activities, interests, music, movies, tv, books, games, about, quotes, can_post, can_see_all_posts, can_see_audio, can_write_private_message, can_send_friend_request, is_favorite, is_hidden_from_feed, timezone, screen_name, maiden_name, crop_photo, is_friend, friend_status, career, military, blacklisted, blacklisted_by_me',\n",
    "           }\n",
    ")\n",
    "resp.json()"
   ]
  },
  {
   "cell_type": "code",
   "execution_count": null,
   "metadata": {
    "collapsed": true
   },
   "outputs": [],
   "source": [
    "resp.json()['response'][0]['crop_photo']['photo']['photo_604']"
   ]
  },
  {
   "cell_type": "code",
   "execution_count": null,
   "metadata": {},
   "outputs": [],
   "source": [
    "import vk\n",
    "session = vk.Session()\n",
    "api = vk.API(session)\n",
    "api.users.get(user_ids=1)"
   ]
  },
  {
   "cell_type": "code",
   "execution_count": null,
   "metadata": {},
   "outputs": [],
   "source": [
    "session = vk.AuthSession(\n",
    "    app_id=6238794,\n",
    "    user_login='timan_ru@yahoo.com',\n",
    "    user_password='SG-l5ks0JZyj'\n",
    ")\n",
    "api = vk.API(session)\n",
    "api.groups.get(extended=1)"
   ]
  },
  {
   "cell_type": "code",
   "execution_count": null,
   "metadata": {
    "collapsed": true
   },
   "outputs": [],
   "source": []
  }
 ],
 "metadata": {
  "kernelspec": {
   "display_name": "Python 3",
   "language": "python",
   "name": "python3"
  },
  "language_info": {
   "codemirror_mode": {
    "name": "ipython",
    "version": 3
   },
   "file_extension": ".py",
   "mimetype": "text/x-python",
   "name": "python",
   "nbconvert_exporter": "python",
   "pygments_lexer": "ipython3",
   "version": "3.6.2"
  }
 },
 "nbformat": 4,
 "nbformat_minor": 2
}
